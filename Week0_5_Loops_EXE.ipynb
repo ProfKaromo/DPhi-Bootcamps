{
  "nbformat": 4,
  "nbformat_minor": 0,
  "metadata": {
    "colab": {
      "provenance": [],
      "authorship_tag": "ABX9TyN68rKBgRutnlRKrVO6/Ez7",
      "include_colab_link": true
    },
    "kernelspec": {
      "name": "python3",
      "display_name": "Python 3"
    },
    "language_info": {
      "name": "python"
    }
  },
  "cells": [
    {
      "cell_type": "markdown",
      "metadata": {
        "id": "view-in-github",
        "colab_type": "text"
      },
      "source": [
        "<a href=\"https://colab.research.google.com/github/ProfKaromo/DPhi-Bootcamps/blob/main/Week0_5_Loops_EXE.ipynb\" target=\"_parent\"><img src=\"https://colab.research.google.com/assets/colab-badge.svg\" alt=\"Open In Colab\"/></a>"
      ]
    },
    {
      "cell_type": "markdown",
      "source": [
        "## Let's Practice!\n",
        "\n",
        "1. Print the First ten natural numbers using a while loop.\n",
        "2. Iterate over the following list and print the elements:\\\n",
        "list1 = [12, 15, 32, 42, 55, 75, 122, 132, 150, 180, 200]\n",
        "3. Accept a number n from the user and print its multiplication table\n",
        "4. Use the enumerate function to print the elements of this list along with the indices:\\\n",
        "grocery = ['bread', 'milk', 'butter']\n",
        "5. Take a number n from the user and find the sum of all numbers between 1 to n.\n",
        "6. Create a sequence of numbers from 3 to 5, and print each item in the sequence.\n",
        "7. Create a sequence of numbers from 3 to 19, but increment by 2 instead of 1.\n",
        "8. Print the letters of the string \"Python\" in the same line:\n",
        ">Using a simple for loop\\\n",
        ">Using the range function"
      ],
      "metadata": {
        "id": "us_PG8K3Kml4"
      }
    }
  ]
}