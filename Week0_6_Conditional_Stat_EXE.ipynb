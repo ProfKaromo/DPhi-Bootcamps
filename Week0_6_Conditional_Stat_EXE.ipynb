{
  "nbformat": 4,
  "nbformat_minor": 0,
  "metadata": {
    "colab": {
      "provenance": [],
      "authorship_tag": "ABX9TyNGqQA3WMZ1/F835fhw7VKQ",
      "include_colab_link": true
    },
    "kernelspec": {
      "name": "python3",
      "display_name": "Python 3"
    },
    "language_info": {
      "name": "python"
    }
  },
  "cells": [
    {
      "cell_type": "markdown",
      "metadata": {
        "id": "view-in-github",
        "colab_type": "text"
      },
      "source": [
        "<a href=\"https://colab.research.google.com/github/ProfKaromo/DPhi-Bootcamps/blob/main/Week0_6_Conditional_Stat_EXE.ipynb\" target=\"_parent\"><img src=\"https://colab.research.google.com/assets/colab-badge.svg\" alt=\"Open In Colab\"/></a>"
      ]
    },
    {
      "cell_type": "markdown",
      "source": [
        "# Let's Practice\n",
        "\n",
        "1. Take values of length and breadth of a rectangle from the user and check if it is a square.\n",
        "2. Take two int values from the user and print the greatest among them.\n",
        "3. Write a program to read a candidate's age and determine whether they are eligible to cast their vote.\n",
        "4. Write a Python program to add a key to a dictionary.\\\n",
        "Sample Dictionary : {0: 10, 1: 20}\\\n",
        "Expected Result : {0: 10, 1: 20, 2: 30}\\\n",
        "5. Below are two lists; convert them into a dictionary.\\\n",
        "keys = ['Ten', 'Twenty', 'Thirty']\\\n",
        "values = [10, 20, 30]\\\n",
        "Expected output:\\\n",
        "{'Ten': 10, 'Twenty': 20, 'Thirty': 30}\\\n",
        "6. Access the value of key 'history'\n",
        "sampleDict = {\\\n",
        "\"class\":{\\\n",
        "\"student\":{\\\n",
        "\"name\":\"Mike\",\\\n",
        "\"marks\":{\\\n",
        "\"physics\":70,\\\n",
        "\"history\":80\\\n",
        "}\\\n",
        "}\\\n",
        "}\\\n",
        "}\n",
        "\n",
        ">Expected output:\n",
        "80\n",
        "\n",
        "7. Given the following dictionary:\\\n",
        "inventory = {\\\n",
        "'gold' : 500,\\\n",
        "'pouch' : ['flint', 'twine', 'gemstone'],\\\n",
        "'backpack' : ['xylophone','dagger', 'bedroll','bread loaf']\\\n",
        "}\\\n",
        "Try to do the following:\n",
        ">Add a key to inventory called 'pocket'.\\\n",
        ">Set the value of 'pocket' to be a list consisting of the strings' seashell', 'strange berry', and 'lint'.\\\n",
        ">.sort()the items in the list stored under the 'backpack' key.\\\n",
        ">Then .remove('dagger') from the list of items stored under the 'backpack' key.\\\n",
        ">Add 50 to the number stored under the 'gold' key."
      ],
      "metadata": {
        "id": "WuLKN5IWuD8w"
      }
    }
  ]
}